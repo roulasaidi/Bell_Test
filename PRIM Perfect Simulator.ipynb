{
 "cells": [
  {
   "cell_type": "code",
   "execution_count": 43,
   "id": "592c8c85-80e5-4e00-9b05-5df99e60ffd5",
   "metadata": {
    "tags": []
   },
   "outputs": [],
   "source": [
    "# Importing standard Qiskit libraries\n",
    "from qiskit import QuantumCircuit, transpile\n",
    "from qiskit.tools.jupyter import *\n",
    "from qiskit.visualization import *\n",
    "from ibm_quantum_widgets import *\n",
    "from qiskit import QuantumCircuit, execute, Aer\n",
    "from qiskit.visualization import plot_histogram\n",
    "from math import sqrt\n",
    "# qiskit-ibmq-provider has been deprecated.\n",
    "# Please see the Migration Guides in https://ibm.biz/provider_migration_guide for more detail.\n",
    "from qiskit_ibm_runtime import QiskitRuntimeService, Sampler, Estimator, Session, Options\n",
    "\n",
    "# Loading your IBM Quantum account(s)\n",
    "service = QiskitRuntimeService(channel=\"ibm_quantum\")\n",
    "\n",
    "from qiskit import QuantumCircuit, QuantumRegister, ClassicalRegister, execute, Aer\n",
    "# Invoke a primitive. For more details see https://qiskit.org/documentation/partners/qiskit_ibm_runtime/tutorials.html\n",
    "# result = Sampler(\"ibmq_qasm_simulator\").run(circuits).result()\n",
    "N=8000"
   ]
  },
  {
   "cell_type": "code",
   "execution_count": 44,
   "id": "891bdc08-bca1-4ed0-8848-7f4b93c4177d",
   "metadata": {
    "tags": []
   },
   "outputs": [
    {
     "data": {
      "image/png": "[encoded data removed]",
      "text/plain": [
       "<Figure size 287.294x200.667 with 1 Axes>"
      ]
     },
     "execution_count": 44,
     "metadata": {},
     "output_type": "execute_result"
    }
   ],
   "source": [
    "## Creating a gate that creats a bell state\n",
    "# Create a quantum circuit with two qubits\n",
    "bell_circuit = QuantumCircuit(2)\n",
    "\n",
    "\n",
    "bell_circuit.h(0) # Apply a Hadamard gate to the first qubit (creates a Bell state)\n",
    "bell_circuit.cx(0, 1)  # Apply a CNOT gate to create an entangled state\n",
    "\n",
    "bc=bell_circuit.to_gate(label=\"Bell Circuit\")\n",
    "bell_circuit.draw()"
   ]
  },
  {
   "cell_type": "code",
   "execution_count": 45,
   "id": "0f61d772-3cea-4960-8604-32cdaf0b1f4c",
   "metadata": {
    "tags": []
   },
   "outputs": [],
   "source": [
    "## The unitary that changes the basis from (X+Z)/sqrt(2) to standard basis\n",
    "from qiskit.quantum_info.operators import Operator\n",
    "from qiskit.extensions import UnitaryGate\n",
    "U0=UnitaryGate(\n",
    "    Operator([[(1-sqrt(2))/sqrt(4-2*sqrt(2)),(1+sqrt(2))/sqrt(4+2*sqrt(2))],\n",
    "              [1/sqrt(4-2*sqrt(2)),1/sqrt(4+2*sqrt(2))]]), label=\"U0\")\n",
    "U1=UnitaryGate(\n",
    "    Operator([[(-1-sqrt(2))/sqrt(4+2*sqrt(2)),(-1+sqrt(2))/sqrt(4-2*sqrt(2))],\n",
    "              [1/sqrt(4+2*sqrt(2)),1/sqrt(4-2*sqrt(2))]]), label=\"U1\")\n",
    "## The unitary that changes the basis from (X-Z)/sqrt(2) to standard basis"
   ]
  },
  {
   "cell_type": "code",
   "execution_count": 46,
   "id": "6267b5cf-776c-4ac2-86a8-34413a5b05f4",
   "metadata": {},
   "outputs": [
    {
     "data": {
      "image/png": "[encoded data removed]",
      "text/plain": [
       "<Figure size 536.926x284.278 with 1 Axes>"
      ]
     },
     "execution_count": 46,
     "metadata": {},
     "output_type": "execute_result"
    }
   ],
   "source": [
    "## To calculate P(ab/xy=00) we measure Alice's qubit on Z basis and Bob's qubit on (X+Z)/sqrt(2) basis\n",
    "q = QuantumRegister(2, name=\"x\")\n",
    "\n",
    "# Allocating 2 bits\n",
    "c = ClassicalRegister(2, name=\"y\")\n",
    "\n",
    "# We build a quantum circuit with both registers.\n",
    "# By default, everything is initialized to 0 and to |0>\n",
    "qc = QuantumCircuit(q,c)\n",
    "qc.append(bell_circuit,[q[0], q[1]])\n",
    "\n",
    "qc.append(U0,[q[1]])\n",
    "# Mesure of all of register q, storing results in c.\n",
    "# This is still part of the circuit\n",
    "qc.measure(q, c)\n",
    "#qc.save_density_matrix(qubits=[0, 1], label=\"rho\", conditional=True)\n",
    "qc.draw()\n",
    "\n"
   ]
  },
  {
   "cell_type": "code",
   "execution_count": 47,
   "id": "73e8ff05-a4e4-4490-8552-b47ce2cb8ef7",
   "metadata": {
    "tags": []
   },
   "outputs": [
    {
     "data": {
      "text/plain": [
       "{'01': 0.416625, '00': 0.076125, '11': 0.07225, '10': 0.435}"
      ]
     },
     "execution_count": 47,
     "metadata": {},
     "output_type": "execute_result"
    }
   ],
   "source": [
    "from qiskit import BasicAer, execute\n",
    "# To run the circuit, we initialize a backend\n",
    "backend = BasicAer.get_backend('qasm_simulator')\n",
    "\n",
    "# Then performs several runs of the circuit using this backend. Here we ask for 1024 runs.\n",
    "job = execute(qc, backend, shots=N)\n",
    "\n",
    "# To retrieve the results -- note how we only get values for the single bit-register\n",
    "res = dict(job.result().get_counts(qc))\n",
    "\n",
    "res\n",
    "counts = job.result().get_counts()\n",
    "total_shots = sum(counts.values())  # Calculate the total number of shots\n",
    "\n",
    "# Initialize a dictionary to store the probabilities\n",
    "P00 = {}\n",
    "\n",
    "# Calculate the probability for each outcome\n",
    "for outcome, count in counts.items():\n",
    "    probability = count / total_shots\n",
    "    P00[outcome] = probability\n",
    "P00\n",
    "\n",
    "## \"P(-1-1/00)\",\"P(-11/00)\",\"P(1-1/00)\",\"P(11/00)\""
   ]
  },
  {
   "cell_type": "code",
   "execution_count": 48,
   "id": "9db5c83e-9fea-408e-8307-4b7a630ec08a",
   "metadata": {
    "tags": []
   },
   "outputs": [
    {
     "data": {
      "image/png": "[encoded data removed]",
      "text/plain": [
       "<Figure size 369.704x284.278 with 1 Axes>"
      ]
     },
     "execution_count": 48,
     "metadata": {},
     "output_type": "execute_result"
    }
   ],
   "source": [
    "## To calculate P(a/0) we measure Alice's qubit on Z basis\n",
    "q = QuantumRegister(2, name=\"x\")\n",
    "\n",
    "# Allocating 2 bits\n",
    "c = ClassicalRegister(1, name=\"y\")\n",
    "\n",
    "# We build a quantum circuit with both registers.\n",
    "# By default, everything is initialized to 0 and to |0>\n",
    "qc = QuantumCircuit(q,c)\n",
    "qc.append(bell_circuit,[q[0], q[1]])\n",
    "\n",
    "##qc.append(U0,[q[1]])\n",
    "# Mesure of all of register q, storing results in c.\n",
    "# This is still part of the circuit\n",
    "qc.measure(q[0], c[0])\n",
    "qc.draw()\n",
    "\n"
   ]
  },
  {
   "cell_type": "code",
   "execution_count": 49,
   "id": "333e2c71-ee66-4aca-a57b-bc0ed3a57c90",
   "metadata": {
    "tags": []
   },
   "outputs": [
    {
     "data": {
      "text/plain": [
       "{'1': 0.49475, '0': 0.50525}"
      ]
     },
     "execution_count": 49,
     "metadata": {},
     "output_type": "execute_result"
    }
   ],
   "source": [
    "from qiskit import BasicAer, execute\n",
    "# To run the circuit, we initialize a backend\n",
    "backend = BasicAer.get_backend('qasm_simulator')\n",
    "\n",
    "# Then performs several runs of the circuit using this backend. Here we ask for 1024 runs.\n",
    "job = execute(qc, backend, shots=N)\n",
    "\n",
    "# To retrieve the results -- note how we only get values for the single bit-register\n",
    "res = dict(job.result().get_counts(qc))\n",
    "\n",
    "res\n",
    "counts = job.result().get_counts()\n",
    "total_shots = sum(counts.values())  # Calculate the total number of shots\n",
    "\n",
    "# Initialize a dictionary to store the probabilities\n",
    "Pa0 = {}\n",
    "\n",
    "# Calculate the probability for each outcome\n",
    "for outcome, count in counts.items():\n",
    "    probability = count / total_shots\n",
    "    Pa0[outcome] = probability\n",
    "Pa0"
   ]
  },
  {
   "cell_type": "code",
   "execution_count": 50,
   "id": "aba03564-8ea7-4baa-af14-0b984ff45763",
   "metadata": {
    "tags": []
   },
   "outputs": [
    {
     "data": {
      "image/png": "[encoded data removed]",
      "text/plain": [
       "<Figure size 453.315x284.278 with 1 Axes>"
      ]
     },
     "execution_count": 50,
     "metadata": {},
     "output_type": "execute_result"
    }
   ],
   "source": [
    "## To calculate P(b/0) we measure Bob's qubit on Z+X/sqrt(2) basis\n",
    "q = QuantumRegister(2, name=\"x\")\n",
    "\n",
    "# Allocating 2 bits\n",
    "c = ClassicalRegister(1, name=\"y\")\n",
    "\n",
    "# We build a quantum circuit with both registers.\n",
    "# By default, everything is initialized to 0 and to |0>\n",
    "qc = QuantumCircuit(q,c)\n",
    "qc.append(bell_circuit,[q[0], q[1]])\n",
    "\n",
    "qc.append(U0,[q[1]])\n",
    "# Mesure of all of register q, storing results in c.\n",
    "# This is still part of the circuit\n",
    "qc.measure(1, 0)\n",
    "qc.draw()"
   ]
  },
  {
   "cell_type": "code",
   "execution_count": 51,
   "id": "0150df6a-23a2-4b15-b79a-ee4e6c662646",
   "metadata": {
    "tags": []
   },
   "outputs": [
    {
     "data": {
      "text/plain": [
       "{'0': 0.49625, '1': 0.50375}"
      ]
     },
     "execution_count": 51,
     "metadata": {},
     "output_type": "execute_result"
    }
   ],
   "source": [
    "from qiskit import BasicAer, execute\n",
    "# To run the circuit, we initialize a backend\n",
    "backend = BasicAer.get_backend('qasm_simulator')\n",
    "\n",
    "# Then performs several runs of the circuit using this backend. Here we ask for 1024 runs.\n",
    "job = execute(qc, backend, shots=N)\n",
    "\n",
    "# To retrieve the results -- note how we only get values for the single bit-register\n",
    "res = dict(job.result().get_counts(qc))\n",
    "\n",
    "res\n",
    "counts = job.result().get_counts()\n",
    "total_shots = sum(counts.values())  # Calculate the total number of shots\n",
    "\n",
    "# Initialize a dictionary to store the probabilities\n",
    "Pb0 = {}\n",
    "\n",
    "# Calculate the probability for each outcome\n",
    "for outcome, count in counts.items():\n",
    "    probability = count / total_shots\n",
    "    Pb0[outcome] = probability\n",
    "Pb0"
   ]
  },
  {
   "cell_type": "code",
   "execution_count": 52,
   "id": "ccfc69b5-3f34-4a74-b301-abb323647110",
   "metadata": {
    "tags": []
   },
   "outputs": [
    {
     "data": {
      "image/png": "[encoded data removed]",
      "text/plain": [
       "<Figure size 536.926x284.278 with 1 Axes>"
      ]
     },
     "execution_count": 52,
     "metadata": {},
     "output_type": "execute_result"
    }
   ],
   "source": [
    "## To calculate P(ab/xy=10) we measure Alice's qubit on X basis and Bob's qubit on (X+Z)/sqrt(2) basis\n",
    "q = QuantumRegister(2, name=\"x\")\n",
    "\n",
    "# Allocating 2 bits\n",
    "c = ClassicalRegister(2, name=\"y\")\n",
    "\n",
    "# We build a quantum circuit with both registers.\n",
    "# By default, everything is initialized to 0 and to |0>\n",
    "qc = QuantumCircuit(q,c)\n",
    "qc.append(bell_circuit,[q[0], q[1]])\n",
    "qc.h(0)\n",
    "qc.append(U0,[q[1]])\n",
    "# Mesure of all of register q, storing results in c.\n",
    "# This is still part of the circuit\n",
    "qc.measure(q, c)\n",
    "qc.draw()"
   ]
  },
  {
   "cell_type": "code",
   "execution_count": 53,
   "id": "1a0eb5d4-4664-40d1-864f-66a360eef002",
   "metadata": {
    "tags": []
   },
   "outputs": [
    {
     "data": {
      "text/plain": [
       "{'10': 0.421625, '01': 0.4265, '11': 0.075125, '00': 0.07675}"
      ]
     },
     "execution_count": 53,
     "metadata": {},
     "output_type": "execute_result"
    }
   ],
   "source": [
    "from qiskit import BasicAer, execute\n",
    "# To run the circuit, we initialize a backend\n",
    "backend = BasicAer.get_backend('qasm_simulator')\n",
    "\n",
    "# Then performs several runs of the circuit using this backend. Here we ask for 1024 runs.\n",
    "job = execute(qc, backend, shots=N)\n",
    "\n",
    "# To retrieve the results -- note how we only get values for the single bit-register\n",
    "res = dict(job.result().get_counts(qc))\n",
    "\n",
    "res\n",
    "counts = job.result().get_counts()\n",
    "total_shots = sum(counts.values())  # Calculate the total number of shots\n",
    "\n",
    "# Initialize a dictionary to store the probabilities\n",
    "P10 = {}\n",
    "\n",
    "# Calculate the probability for each outcome\n",
    "for outcome, count in counts.items():\n",
    "    probability = count / total_shots\n",
    "    P10[outcome] = probability\n",
    "P10\n",
    "\n"
   ]
  },
  {
   "cell_type": "code",
   "execution_count": 54,
   "id": "ff6e62d2-459b-49fe-b6fa-525e4895b963",
   "metadata": {
    "tags": []
   },
   "outputs": [
    {
     "data": {
      "image/png": "[encoded data removed]",
      "text/plain": [
       "<Figure size 536.926x284.278 with 1 Axes>"
      ]
     },
     "execution_count": 54,
     "metadata": {},
     "output_type": "execute_result"
    }
   ],
   "source": [
    "## To calculate P(ab/xy=01) we measure Alice's qubit on Z basis and Bob's qubit on (X-Z)/sqrt(2) basis\n",
    "q = QuantumRegister(2, name=\"x\")\n",
    "\n",
    "# Allocating 2 bits\n",
    "c = ClassicalRegister(2, name=\"y\")\n",
    "\n",
    "# We build a quantum circuit with both registers.\n",
    "# By default, everything is initialized to 0 and to |0>\n",
    "qc = QuantumCircuit(q,c)\n",
    "qc.append(bell_circuit,[q[0], q[1]])\n",
    "\n",
    "qc.append(U1,[q[1]])\n",
    "# Mesure of all of register q, storing results in c.\n",
    "# This is still part of the circuit\n",
    "qc.measure(q, c)\n",
    "qc.draw()"
   ]
  },
  {
   "cell_type": "code",
   "execution_count": 55,
   "id": "78b14a67-4034-446b-aa78-05de2bfea873",
   "metadata": {
    "tags": []
   },
   "outputs": [
    {
     "data": {
      "text/plain": [
       "{'10': 0.0715, '00': 0.423625, '11': 0.429, '01': 0.075875}"
      ]
     },
     "execution_count": 55,
     "metadata": {},
     "output_type": "execute_result"
    }
   ],
   "source": [
    "from qiskit import BasicAer, execute\n",
    "# To run the circuit, we initialize a backend\n",
    "backend = BasicAer.get_backend('qasm_simulator')\n",
    "\n",
    "# Then performs several runs of the circuit using this backend. Here we ask for 1024 runs.\n",
    "job = execute(qc, backend, shots=N)\n",
    "\n",
    "# To retrieve the results -- note how we only get values for the single bit-register\n",
    "res = dict(job.result().get_counts(qc))\n",
    "\n",
    "res\n",
    "counts = job.result().get_counts()\n",
    "total_shots = sum(counts.values())  # Calculate the total number of shots\n",
    "\n",
    "# Initialize a dictionary to store the probabilities\n",
    "P01 = {}\n",
    "\n",
    "# Calculate the probability for each outcome\n",
    "for outcome, count in counts.items():\n",
    "    probability = count / total_shots\n",
    "    P01[outcome] = probability\n",
    "P01\n",
    "\n"
   ]
  },
  {
   "cell_type": "code",
   "execution_count": 56,
   "id": "72193e6f-b851-4307-97b7-dded5b721ddc",
   "metadata": {
    "tags": []
   },
   "outputs": [
    {
     "data": {
      "image/png": "[encoded data removed]",
      "text/plain": [
       "<Figure size 536.926x284.278 with 1 Axes>"
      ]
     },
     "execution_count": 56,
     "metadata": {},
     "output_type": "execute_result"
    }
   ],
   "source": [
    "## To calculate P(ab/xy=11) we measure Alice's qubit on X basis and Bob's qubit on (X-Z)/sqrt(2) basis\n",
    "q = QuantumRegister(2, name=\"x\")\n",
    "\n",
    "# Allocating 2 bits\n",
    "c = ClassicalRegister(2, name=\"y\")\n",
    "\n",
    "# We build a quantum circuit with both registers.\n",
    "# By default, everything is initialized to 0 and to |0>\n",
    "qc = QuantumCircuit(q,c)\n",
    "qc.append(bell_circuit,[q[0], q[1]])\n",
    "qc.h(0)\n",
    "qc.append(U1,[q[1]])\n",
    "# Mesure of all of register q, storing results in c.\n",
    "# This is still part of the circuit\n",
    "qc.measure(q, c)\n",
    "qc.draw()"
   ]
  },
  {
   "cell_type": "code",
   "execution_count": 57,
   "id": "dcf7570c-8718-40e4-b1b5-0bd629c6f41b",
   "metadata": {
    "tags": []
   },
   "outputs": [
    {
     "data": {
      "text/plain": [
       "{'01': 0.42575, '10': 0.4275, '00': 0.07525, '11': 0.0715}"
      ]
     },
     "execution_count": 57,
     "metadata": {},
     "output_type": "execute_result"
    }
   ],
   "source": [
    "from qiskit import BasicAer, execute\n",
    "# To run the circuit, we initialize a backend\n",
    "backend = BasicAer.get_backend('qasm_simulator')\n",
    "\n",
    "# Then performs several runs of the circuit using this backend. Here we ask for 1024 runs.\n",
    "job = execute(qc, backend, shots=N)\n",
    "\n",
    "# To retrieve the results -- note how we only get values for the single bit-register\n",
    "res = dict(job.result().get_counts(qc))\n",
    "\n",
    "res\n",
    "counts = job.result().get_counts()\n",
    "total_shots = sum(counts.values())  # Calculate the total number of shots\n",
    "\n",
    "# Initialize a dictionary to store the probabilities\n",
    "P11 = {}\n",
    "\n",
    "# Calculate the probability for each outcome\n",
    "for outcome, count in counts.items():\n",
    "    probability = count / total_shots\n",
    "    P11[outcome] = probability\n",
    "P11\n",
    "\n"
   ]
  },
  {
   "cell_type": "code",
   "execution_count": 58,
   "id": "c41782f2-5276-4232-8266-0785aff5a2fc",
   "metadata": {
    "tags": []
   },
   "outputs": [
    {
     "data": {
      "image/png": "[encoded data removed]",
      "text/plain": [
       "<Figure size 453.315x284.278 with 1 Axes>"
      ]
     },
     "execution_count": 58,
     "metadata": {},
     "output_type": "execute_result"
    }
   ],
   "source": [
    "## ## To calculate P(a/1) we measure Alice's qubit on X basis\n",
    "q = QuantumRegister(2, name=\"x\")\n",
    "\n",
    "# Allocating 2 bits\n",
    "c = ClassicalRegister(1, name=\"y\")\n",
    "\n",
    "# We build a quantum circuit with both registers.\n",
    "# By default, everything is initialized to 0 and to |0>\n",
    "qc = QuantumCircuit(q,c)\n",
    "qc.append(bell_circuit,[q[0], q[1]])\n",
    "qc.h(0)\n",
    "#qc.append(U1,[q[1]])\n",
    "# Mesure of all of register q, storing results in c.\n",
    "# This is still part of the circuit\n",
    "qc.measure(q[0], c)\n",
    "qc.draw()"
   ]
  },
  {
   "cell_type": "code",
   "execution_count": 59,
   "id": "18d3bdad-246e-40ac-be34-87ab2c9c7296",
   "metadata": {
    "tags": []
   },
   "outputs": [
    {
     "data": {
      "text/plain": [
       "{'1': 0.502125, '0': 0.497875}"
      ]
     },
     "execution_count": 59,
     "metadata": {},
     "output_type": "execute_result"
    }
   ],
   "source": [
    "from qiskit import BasicAer, execute\n",
    "# To run the circuit, we initialize a backend\n",
    "backend = BasicAer.get_backend('qasm_simulator')\n",
    "\n",
    "# Then performs several runs of the circuit using this backend. Here we ask for 1024 runs.\n",
    "job = execute(qc, backend, shots=N)\n",
    "\n",
    "# To retrieve the results -- note how we only get values for the single bit-register\n",
    "res = dict(job.result().get_counts(qc))\n",
    "\n",
    "res\n",
    "counts = job.result().get_counts()\n",
    "total_shots = sum(counts.values())  # Calculate the total number of shots\n",
    "\n",
    "# Initialize a dictionary to store the probabilities\n",
    "Pa1 = {}\n",
    "\n",
    "# Calculate the probability for each outcome\n",
    "for outcome, count in counts.items():\n",
    "    probability = count / total_shots\n",
    "    Pa1[outcome] = probability\n",
    "Pa1"
   ]
  },
  {
   "cell_type": "code",
   "execution_count": 60,
   "id": "8b58104e-0716-4127-98ec-4724bf121168",
   "metadata": {
    "tags": []
   },
   "outputs": [
    {
     "data": {
      "image/png": "[encoded data removed]",
      "text/plain": [
       "<Figure size 453.315x284.278 with 1 Axes>"
      ]
     },
     "execution_count": 60,
     "metadata": {},
     "output_type": "execute_result"
    }
   ],
   "source": [
    "## ## To calculate P(b/1) we measure Bob's qubit on X-Z/sqrt(2) basis\n",
    "q = QuantumRegister(2, name=\"x\")\n",
    "\n",
    "# Allocating 2 bits\n",
    "c = ClassicalRegister(1, name=\"y\")\n",
    "\n",
    "# We build a quantum circuit with both registers.\n",
    "# By default, everything is initialized to 0 and to |0>\n",
    "qc = QuantumCircuit(q,c)\n",
    "qc.append(bell_circuit,[q[0], q[1]])\n",
    "\n",
    "qc.append(U1,[q[1]])\n",
    "# Mesure of all of register q, storing results in c.\n",
    "# This is still part of the circuit\n",
    "qc.measure(q[1], c)\n",
    "qc.draw()"
   ]
  },
  {
   "cell_type": "code",
   "execution_count": 61,
   "id": "9828ee33-06d8-4414-b112-fde1557d0112",
   "metadata": {},
   "outputs": [
    {
     "data": {
      "text/plain": [
       "{'0': 0.500875, '1': 0.499125}"
      ]
     },
     "execution_count": 61,
     "metadata": {},
     "output_type": "execute_result"
    }
   ],
   "source": [
    "from qiskit import BasicAer, execute\n",
    "# To run the circuit, we initialize a backend\n",
    "backend = BasicAer.get_backend('qasm_simulator')\n",
    "\n",
    "# Then performs several runs of the circuit using this backend. Here we ask for 1024 runs.\n",
    "job = execute(qc, backend, shots=N)\n",
    "\n",
    "# To retrieve the results -- note how we only get values for the single bit-register\n",
    "res = dict(job.result().get_counts(qc))\n",
    "\n",
    "res\n",
    "counts = job.result().get_counts()\n",
    "total_shots = sum(counts.values())  # Calculate the total number of shots\n",
    "\n",
    "# Initialize a dictionary to store the probabilities\n",
    "Pb1 = {}\n",
    "\n",
    "# Calculate the probability for each outcome\n",
    "for outcome, count in counts.items():\n",
    "    probability = count / total_shots\n",
    "    Pb1[outcome] = probability\n",
    "Pb1"
   ]
  },
  {
   "cell_type": "code",
   "execution_count": 62,
   "id": "869ed0c1-8160-4c3e-844a-ab3cf3e70f52",
   "metadata": {
    "tags": []
   },
   "outputs": [
    {
     "name": "stdout",
     "output_type": "stream",
     "text": [
      "ep_a0 = |P(a=1/00) - P(a=1/01)|: [0.009750000000000036, 0.016625, 0.01599999999999996]\n",
      "ep_a1 = |P(a=1/10) - P(a=1/11)|: [0.00649999999999995, 0.010000000000000009, 0.004374999999999962]\n",
      "ep_b0 = |P(b=1/00) - P(b=1/10)|: [0.002875000000000072, 0.018500000000000016, 0.010499999999999954]\n",
      "ep_b1 = |P(b=1/01) - P(b=1/11)|: [0.0025000000000000577, 0.005125000000000046, 0.0014999999999999458]\n"
     ]
    }
   ],
   "source": [
    "##ep_ax = |P(a=1/xy)-P(a=1/xy')|\n",
    "#ep_a0=[]\n",
    "ep_a0.append(abs(P00['01']+P00['11'] - (P01['01']+P01['11']))) # |P(a=1/00) - P(a=1/01)|\n",
    "#ep_a1=[]\n",
    "ep_a1.append(abs(P10['01']+P10['11'] - (P11['01']+P11['11']))) # |P(a=1/10) - P(a=1/11)|\n",
    "\n",
    "##ep_by = P(b=1/xy)-P(b=1/x'y)\n",
    "#ep_b0=[]\n",
    "ep_b0.append(abs(P00['10']+P00['11'] - (P10['10']+P10['11']))) # |P(b=1/00) - P(b=1/10)|\n",
    "#ep_b1=[]\n",
    "ep_b1.append(abs(P01['10']+P01['11'] - (P11['10']+P11['11']))) # |P(b=1/01) - P(b=1/11)|\n",
    "\n",
    "print(\"ep_a0 = |P(a=1/00) - P(a=1/01)|:\", ep_a0)\n",
    "print(\"ep_a1 = |P(a=1/10) - P(a=1/11)|:\", ep_a1)\n",
    "print(\"ep_b0 = |P(b=1/00) - P(b=1/10)|:\", ep_b0)\n",
    "print(\"ep_b1 = |P(b=1/01) - P(b=1/11)|:\", ep_b1)"
   ]
  },
  {
   "cell_type": "code",
   "execution_count": 63,
   "id": "b14b3409-26eb-4822-9291-44e5cbe16542",
   "metadata": {},
   "outputs": [
    {
     "name": "stdout",
     "output_type": "stream",
     "text": [
      "ep_a0_snoise = |P(a=0/0) - 1/2|: [0.0016249999999999876, 0.00649999999999995, 0.005249999999999977]\n",
      "ep_a1_snoise = |P(a=0/1) - 1/2|: [0.0063750000000000195, 0.00012500000000004174, 0.002124999999999988]\n",
      "ep_b0_snoise = |P(b=0/0) - 1/2|: [0.005624999999999991, 0.00412499999999999, 0.0037499999999999756]\n",
      "ep_b1_snoise = |P(b=0/1) - 1/2|: [0.0004999999999999449, 0.00024999999999997247, 0.0008749999999999591]\n"
     ]
    }
   ],
   "source": [
    "##ep_noise statistical noise\n",
    "#ep_a0_snoise=[]\n",
    "#ep_a1_snoise=[]\n",
    "#ep_b0_snoise=[]\n",
    "#ep_b1_snoise=[]\n",
    "\n",
    "ep_a0_snoise.append(abs(0.5 - Pa0['0']))\n",
    "ep_a1_snoise.append(abs(0.5 - Pa1['0']))\n",
    "ep_b0_snoise.append(abs(0.5 - Pb0['0'])) \n",
    "ep_b1_snoise.append(abs(0.5 - Pb1['0'])) \n",
    "\n",
    "print(\"ep_a0_snoise = |P(a=0/0) - 1/2|:\", ep_a0_snoise)\n",
    "print(\"ep_a1_snoise = |P(a=0/1) - 1/2|:\", ep_a1_snoise)\n",
    "print(\"ep_b0_snoise = |P(b=0/0) - 1/2|:\", ep_b0_snoise)\n",
    "print(\"ep_b1_snoise = |P(b=0/1) - 1/2|:\", ep_b1_snoise)"
   ]
  },
  {
   "cell_type": "code",
   "execution_count": null,
   "id": "d24595b7-c7a7-4962-b7a1-811b4646176b",
   "metadata": {},
   "outputs": [],
   "source": []
  },
  {
   "cell_type": "code",
   "execution_count": null,
   "id": "2a39b565-9404-4843-8a1b-0a48cca97759",
   "metadata": {},
   "outputs": [],
   "source": []
  },
  {
   "cell_type": "code",
   "execution_count": null,
   "id": "0ced2a7d-de71-4aea-bbe1-edd6a42ea8db",
   "metadata": {},
   "outputs": [],
   "source": []
  }
 ],
 "metadata": {
  "kernelspec": {
   "display_name": "Python 3 (ipykernel)",
   "language": "python",
   "name": "python3"
  },
  "language_info": {
   "codemirror_mode": {
    "name": "ipython",
    "version": 3
   },
   "file_extension": ".py",
   "mimetype": "text/x-python",
   "name": "python",
   "nbconvert_exporter": "python",
   "pygments_lexer": "ipython3",
   "version": "3.10.8"
  },
  "widgets": {
   "application/vnd.jupyter.widget-state+json": {
    "state": {
     "0322ae067fd54b07b0e6f1290a74d172": {
      "model_module": "@jupyter-widgets/base",
      "model_module_version": "2.0.0",
      "model_name": "LayoutModel",
      "state": {
       "width": "145px"
      }
     },
     "06ca9e1c0f1649749f9c21bdad0c148b": {
      "model_module": "@jupyter-widgets/controls",
      "model_module_version": "2.0.0",
      "model_name": "HTMLModel",
      "state": {
       "layout": "IPY_MODEL_41dc4085069a4d3e9d248b420b98deff",
       "style": "IPY_MODEL_a0bb1208b6bd450c9fa0382c7b33d931",
       "value": "<h5>Message</h5>"
      }
     },
     "124c6ce5d158438d8f24ddb2b6a231ec": {
      "model_module": "@jupyter-widgets/controls",
      "model_module_version": "2.0.0",
      "model_name": "HTMLStyleModel",
      "state": {
       "description_width": "",
       "font_size": null,
       "text_color": null
      }
     },
     "14b1f25542704beab0950e34c21ca77b": {
      "model_module": "@jupyter-widgets/base",
      "model_module_version": "2.0.0",
      "model_name": "LayoutModel",
      "state": {
       "width": "190px"
      }
     },
     "25536df6b20c40c1b7215d905cccafaa": {
      "model_module": "@jupyter-widgets/base",
      "model_module_version": "2.0.0",
      "model_name": "LayoutModel",
      "state": {
       "grid_area": "right",
       "padding": "0px 0px 0px 0px",
       "width": "70px"
      }
     },
     "3c2fe37d86754b9ba2063a3c56326000": {
      "model_module": "@jupyter-widgets/controls",
      "model_module_version": "2.0.0",
      "model_name": "HTMLStyleModel",
      "state": {
       "description_width": "",
       "font_size": null,
       "text_color": null
      }
     },
     "3d49b9a276384e12abb94061068fecbd": {
      "model_module": "@jupyter-widgets/controls",
      "model_module_version": "2.0.0",
      "model_name": "HBoxModel",
      "state": {
       "children": [
        "IPY_MODEL_3ef6f46dc58c47c6acce142588aed9a8",
        "IPY_MODEL_a6e028bc1aa14d43b8b56b2a852b3079",
        "IPY_MODEL_7bc3f27b567d4805a5a1aaac8dfcf3b4",
        "IPY_MODEL_d8488404ec0243399d10dd062a0654b2",
        "IPY_MODEL_06ca9e1c0f1649749f9c21bdad0c148b"
       ],
       "layout": "IPY_MODEL_83a62d0c8db446739caec7d58332a617"
      }
     },
     "3ef6f46dc58c47c6acce142588aed9a8": {
      "model_module": "@jupyter-widgets/controls",
      "model_module_version": "2.0.0",
      "model_name": "HTMLModel",
      "state": {
       "layout": "IPY_MODEL_14b1f25542704beab0950e34c21ca77b",
       "style": "IPY_MODEL_eada933324ca4d4da0a382cdd3f4b02f",
       "value": "<h5>Job ID</h5>"
      }
     },
     "41dc4085069a4d3e9d248b420b98deff": {
      "model_module": "@jupyter-widgets/base",
      "model_module_version": "2.0.0",
      "model_name": "LayoutModel",
      "state": {}
     },
     "4a282896b7aa41238518e89da0a31778": {
      "model_module": "@jupyter-widgets/base",
      "model_module_version": "2.0.0",
      "model_name": "LayoutModel",
      "state": {
       "width": "70px"
      }
     },
     "77d0421af7e5420b896221ce52c84198": {
      "model_module": "@jupyter-widgets/controls",
      "model_module_version": "2.0.0",
      "model_name": "HTMLStyleModel",
      "state": {
       "description_width": "",
       "font_size": null,
       "text_color": null
      }
     },
     "78fec15a72ec4e37b8fe357da49237b3": {
      "model_module": "@jupyter-widgets/controls",
      "model_module_version": "2.0.0",
      "model_name": "HTMLStyleModel",
      "state": {
       "description_width": "",
       "font_size": null,
       "text_color": null
      }
     },
     "7bc3f27b567d4805a5a1aaac8dfcf3b4": {
      "model_module": "@jupyter-widgets/controls",
      "model_module_version": "2.0.0",
      "model_name": "HTMLModel",
      "state": {
       "layout": "IPY_MODEL_fbafd2b402b446459f392869a155e0c4",
       "style": "IPY_MODEL_3c2fe37d86754b9ba2063a3c56326000",
       "value": "<h5>Status</h5>"
      }
     },
     "8069aaa49ddf416f8013f7f36bd90f13": {
      "model_module": "@jupyter-widgets/base",
      "model_module_version": "2.0.0",
      "model_name": "LayoutModel",
      "state": {
       "grid_template_areas": "\n                                       \". . . . right \"\n                                        ",
       "grid_template_columns": "20% 20% 20% 20% 20%",
       "width": "100%"
      }
     },
     "83a62d0c8db446739caec7d58332a617": {
      "model_module": "@jupyter-widgets/base",
      "model_module_version": "2.0.0",
      "model_name": "LayoutModel",
      "state": {
       "margin": "0px 0px 0px 37px",
       "width": "600px"
      }
     },
     "9656348b8fe14968a3fb7793a29e6dc9": {
      "model_module": "@jupyter-widgets/base",
      "model_module_version": "2.0.0",
      "model_name": "LayoutModel",
      "state": {
       "margin": "0px 0px 10px 0px"
      }
     },
     "9ce11ca88eb74538b5d781b8aa96dabf": {
      "model_module": "@jupyter-widgets/controls",
      "model_module_version": "2.0.0",
      "model_name": "GridBoxModel",
      "state": {
       "children": [
        "IPY_MODEL_f3397340df3d40eea08bcb2b97ae07e2"
       ],
       "layout": "IPY_MODEL_8069aaa49ddf416f8013f7f36bd90f13"
      }
     },
     "9d69de84aecb44e6abcd846bd7572690": {
      "model_module": "@jupyter-widgets/controls",
      "model_module_version": "2.0.0",
      "model_name": "ButtonStyleModel",
      "state": {
       "font_family": null,
       "font_size": null,
       "font_style": null,
       "font_variant": null,
       "font_weight": null,
       "text_color": null,
       "text_decoration": null
      }
     },
     "a0bb1208b6bd450c9fa0382c7b33d931": {
      "model_module": "@jupyter-widgets/controls",
      "model_module_version": "2.0.0",
      "model_name": "HTMLStyleModel",
      "state": {
       "description_width": "",
       "font_size": null,
       "text_color": null
      }
     },
     "a6e028bc1aa14d43b8b56b2a852b3079": {
      "model_module": "@jupyter-widgets/controls",
      "model_module_version": "2.0.0",
      "model_name": "HTMLModel",
      "state": {
       "layout": "IPY_MODEL_0322ae067fd54b07b0e6f1290a74d172",
       "style": "IPY_MODEL_77d0421af7e5420b896221ce52c84198",
       "value": "<h5>Backend</h5>"
      }
     },
     "c43c9e52081342e59a748cbc0f8251ac": {
      "model_module": "@jupyter-widgets/controls",
      "model_module_version": "2.0.0",
      "model_name": "HTMLModel",
      "state": {
       "layout": "IPY_MODEL_9656348b8fe14968a3fb7793a29e6dc9",
       "style": "IPY_MODEL_124c6ce5d158438d8f24ddb2b6a231ec",
       "value": "<p style='font-family: IBM Plex Sans, Arial, Helvetica, sans-serif; font-size: 20px; font-weight: medium;'>Circuit Properties</p>"
      }
     },
     "d8488404ec0243399d10dd062a0654b2": {
      "model_module": "@jupyter-widgets/controls",
      "model_module_version": "2.0.0",
      "model_name": "HTMLModel",
      "state": {
       "layout": "IPY_MODEL_4a282896b7aa41238518e89da0a31778",
       "style": "IPY_MODEL_78fec15a72ec4e37b8fe357da49237b3",
       "value": "<h5>Queue</h5>"
      }
     },
     "eada933324ca4d4da0a382cdd3f4b02f": {
      "model_module": "@jupyter-widgets/controls",
      "model_module_version": "2.0.0",
      "model_name": "HTMLStyleModel",
      "state": {
       "description_width": "",
       "font_size": null,
       "text_color": null
      }
     },
     "f3397340df3d40eea08bcb2b97ae07e2": {
      "model_module": "@jupyter-widgets/controls",
      "model_module_version": "2.0.0",
      "model_name": "ButtonModel",
      "state": {
       "button_style": "primary",
       "description": "Clear",
       "layout": "IPY_MODEL_25536df6b20c40c1b7215d905cccafaa",
       "style": "IPY_MODEL_9d69de84aecb44e6abcd846bd7572690",
       "tooltip": null
      }
     },
     "fbafd2b402b446459f392869a155e0c4": {
      "model_module": "@jupyter-widgets/base",
      "model_module_version": "2.0.0",
      "model_name": "LayoutModel",
      "state": {
       "width": "95px"
      }
     }
    },
    "version_major": 2,
    "version_minor": 0
   }
  }
 },
 "nbformat": 4,
 "nbformat_minor": 5
}
