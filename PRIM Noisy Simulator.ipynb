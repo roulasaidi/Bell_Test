{
 "cells": [
  {
   "cell_type": "code",
   "execution_count": 44,
   "id": "592c8c85-80e5-4e00-9b05-5df99e60ffd5",
   "metadata": {
    "tags": []
   },
   "outputs": [],
   "source": [
    "# Importing standard Qiskit libraries\n",
    "from qiskit import QuantumCircuit, transpile\n",
    "from qiskit.tools.jupyter import *\n",
    "from qiskit.visualization import *\n",
    "from ibm_quantum_widgets import *\n",
    "from qiskit import QuantumCircuit, execute, Aer\n",
    "from qiskit.visualization import plot_histogram\n",
    "from math import sqrt\n",
    "# qiskit-ibmq-provider has been deprecated.\n",
    "# Please see the Migration Guides in https://ibm.biz/provider_migration_guide for more detail.\n",
    "from qiskit_ibm_runtime import QiskitRuntimeService, Sampler, Estimator, Session, Options\n",
    "\n",
    "# Loading your IBM Quantum account(s)\n",
    "service = QiskitRuntimeService(channel=\"ibm_quantum\")\n",
    "\n",
    "from qiskit import QuantumCircuit, QuantumRegister, ClassicalRegister, execute, Aer\n",
    "# Invoke a primitive. For more details see https://qiskit.org/documentation/partners/qiskit_ibm_runtime/tutorials.html\n",
    "# result = Sampler(\"ibmq_qasm_simulator\").run(circuits).result()\n",
    "N=8000"
   ]
  },
  {
   "cell_type": "code",
   "execution_count": 45,
   "id": "891bdc08-bca1-4ed0-8848-7f4b93c4177d",
   "metadata": {
    "tags": []
   },
   "outputs": [
    {
     "data": {
      "image/png": "[encoded data removed]",
      "text/plain": [
       "<Figure size 287.294x200.667 with 1 Axes>"
      ]
     },
     "execution_count": 45,
     "metadata": {},
     "output_type": "execute_result"
    }
   ],
   "source": [
    "## Creating a gate that creats a bell state\n",
    "# Create a quantum circuit with two qubits\n",
    "bell_circuit = QuantumCircuit(2)\n",
    "\n",
    "\n",
    "bell_circuit.h(1) # Apply a Hadamard gate to the first qubit (creates a Bell state)\n",
    "bell_circuit.cx(1, 0)  # Apply a CNOT gate to create an entangled state\n",
    "\n",
    "bc=bell_circuit.to_gate(label=\"Bell Circuit\")\n",
    "bell_circuit.draw()"
   ]
  },
  {
   "cell_type": "code",
   "execution_count": 46,
   "id": "0f61d772-3cea-4960-8604-32cdaf0b1f4c",
   "metadata": {
    "tags": []
   },
   "outputs": [],
   "source": [
    "## The unitary that changes the basis from (X+Z)/sqrt(2) to standard basis\n",
    "from qiskit.quantum_info.operators import Operator\n",
    "from qiskit.extensions import UnitaryGate\n",
    "U0=UnitaryGate(\n",
    "    Operator([[(1-sqrt(2))/sqrt(4-2*sqrt(2)),(1+sqrt(2))/sqrt(4+2*sqrt(2))],\n",
    "              [1/sqrt(4-2*sqrt(2)),1/sqrt(4+2*sqrt(2))]]), label=\"U0\")\n",
    "U1=UnitaryGate(\n",
    "    Operator([[(-1-sqrt(2))/sqrt(4+2*sqrt(2)),(-1+sqrt(2))/sqrt(4-2*sqrt(2))],\n",
    "              [1/sqrt(4+2*sqrt(2)),1/sqrt(4-2*sqrt(2))]]), label=\"U1\")\n",
    "## The unitary that changes the basis from (X-Z)/sqrt(2) to standard basis"
   ]
  },
  {
   "cell_type": "code",
   "execution_count": 47,
   "id": "6267b5cf-776c-4ac2-86a8-34413a5b05f4",
   "metadata": {},
   "outputs": [
    {
     "data": {
      "image/png": "[encoded data removed]",
      "text/plain": [
       "<Figure size 620.537x284.278 with 1 Axes>"
      ]
     },
     "execution_count": 47,
     "metadata": {},
     "output_type": "execute_result"
    }
   ],
   "source": [
    "## To calculate P(ab/xy=00) we measure Alice's qubit on Z basis and Bob's qubit on (X+Z)/sqrt(2) basis\n",
    "q = QuantumRegister(2, name=\"x\")\n",
    "\n",
    "# Allocating 2 bits\n",
    "c = ClassicalRegister(2, name=\"y\")\n",
    "\n",
    "# We build a quantum circuit with both registers.\n",
    "# By default, everything is initialized to 0 and to |0>\n",
    "qc = QuantumCircuit(q,c)\n",
    "qc.append(bell_circuit,[q[0], q[1]])\n",
    "\n",
    "qc.append(U0,[q[1]])\n",
    "# Mesure of all of register q, storing results in c.\n",
    "# This is still part of the circuit\n",
    "qc.measure(q, c)\n",
    "qc.draw()\n",
    "\n"
   ]
  },
  {
   "cell_type": "code",
   "execution_count": 48,
   "id": "73e8ff05-a4e4-4490-8552-b47ce2cb8ef7",
   "metadata": {
    "tags": []
   },
   "outputs": [
    {
     "data": {
      "text/plain": [
       "{'11': 0.096875, '01': 0.401375, '00': 0.11275, '10': 0.389}"
      ]
     },
     "execution_count": 48,
     "metadata": {},
     "output_type": "execute_result"
    }
   ],
   "source": [
    "from qiskit import QuantumCircuit, transpile\n",
    "from qiskit_aer import AerSimulator\n",
    "from qiskit.visualization import plot_histogram\n",
    "from qiskit_aer.noise import NoiseModel\n",
    "from qiskit.providers.fake_provider import FakeVigo\n",
    "\n",
    "# Build noise model from backend properties\n",
    "backend = FakeVigo()\n",
    "noise_model = NoiseModel.from_backend(backend)\n",
    "\n",
    "# Get coupling map from backend\n",
    "coupling_map = backend.configuration().coupling_map\n",
    "\n",
    "# Get basis gates from noise model\n",
    "basis_gates = noise_model.basis_gates\n",
    "\n",
    "# Perform a noise simulation\n",
    "backend = AerSimulator(noise_model=noise_model,\n",
    "                       coupling_map=coupling_map,\n",
    "                       basis_gates=basis_gates)\n",
    "transpiled_circuit = transpile(qc, backend)\n",
    "# Specify the number of shots for each run of the circuit\n",
    "num_shots =  N  # You can change this number based on your needs\n",
    "\n",
    "# Perform multiple runs of the transpiled circuit with noise\n",
    "simulator = AerSimulator(noise_model=noise_model, coupling_map=coupling_map, basis_gates=basis_gates)\n",
    "job = execute(transpiled_circuit, simulator, shots=num_shots)\n",
    "\n",
    "# Retrieve the results\n",
    "result = job.result()\n",
    "counts = result.get_counts(transpiled_circuit)\n",
    "\n",
    "total_shots = sum(counts.values())  # Calculate the total number of shots\n",
    "# Initialize a dictionary to store the probabilities\n",
    "P00 = {}\n",
    "\n",
    "# Calculate the probability for each outcome\n",
    "for outcome, count in counts.items():\n",
    "    probability = count / total_shots\n",
    "    P00[outcome] = probability\n",
    "P00\n",
    "## \"P(-1-1/00)\",\"P(-11/00)\",\"P(1-1/00)\",\"P(11/00)\""
   ]
  },
  {
   "cell_type": "code",
   "execution_count": 49,
   "id": "9db5c83e-9fea-408e-8307-4b7a630ec08a",
   "metadata": {
    "tags": []
   },
   "outputs": [
    {
     "data": {
      "image/png": "[encoded data removed]",
      "text/plain": [
       "<Figure size 453.315x284.278 with 1 Axes>"
      ]
     },
     "execution_count": 49,
     "metadata": {},
     "output_type": "execute_result"
    }
   ],
   "source": [
    "## To calculate P(a/0) we measure Alice's qubit on Z basis\n",
    "q = QuantumRegister(2, name=\"x\")\n",
    "\n",
    "# Allocating 2 bits\n",
    "c = ClassicalRegister(1, name=\"y\")\n",
    "\n",
    "# We build a quantum circuit with both registers.\n",
    "# By default, everything is initialized to 0 and to |0>\n",
    "qc = QuantumCircuit(q,c)\n",
    "qc.append(bell_circuit,[q[0], q[1]])\n",
    "\n",
    "##qc.append(U0,[q[1]])\n",
    "# Mesure of all of register q, storing results in c.\n",
    "# This is still part of the circuit\n",
    "qc.measure(q[0], c[0])\n",
    "qc.draw()\n",
    "\n"
   ]
  },
  {
   "cell_type": "code",
   "execution_count": 50,
   "id": "333e2c71-ee66-4aca-a57b-bc0ed3a57c90",
   "metadata": {
    "tags": []
   },
   "outputs": [
    {
     "data": {
      "text/plain": [
       "{'1': 0.497, '0': 0.503}"
      ]
     },
     "execution_count": 50,
     "metadata": {},
     "output_type": "execute_result"
    }
   ],
   "source": [
    "from qiskit import QuantumCircuit, transpile\n",
    "from qiskit_aer import AerSimulator\n",
    "from qiskit.visualization import plot_histogram\n",
    "from qiskit_aer.noise import NoiseModel\n",
    "from qiskit.providers.fake_provider import FakeVigo\n",
    "\n",
    "# Build noise model from backend properties\n",
    "backend = FakeVigo()\n",
    "noise_model = NoiseModel.from_backend(backend)\n",
    "\n",
    "# Get coupling map from backend\n",
    "coupling_map = backend.configuration().coupling_map\n",
    "\n",
    "# Get basis gates from noise model\n",
    "basis_gates = noise_model.basis_gates\n",
    "\n",
    "# Perform a noise simulation\n",
    "backend = AerSimulator(noise_model=noise_model,\n",
    "                       coupling_map=coupling_map,\n",
    "                       basis_gates=basis_gates)\n",
    "transpiled_circuit = transpile(qc, backend)\n",
    "# Specify the number of shots for each run of the circuit\n",
    "num_shots =  N  # You can change this number based on your needs\n",
    "\n",
    "# Perform multiple runs of the transpiled circuit with noise\n",
    "simulator = AerSimulator(noise_model=noise_model, coupling_map=coupling_map, basis_gates=basis_gates)\n",
    "job = execute(transpiled_circuit, simulator, shots=num_shots)\n",
    "\n",
    "# Retrieve the results\n",
    "result = job.result()\n",
    "counts = result.get_counts(transpiled_circuit)\n",
    "\n",
    "total_shots = sum(counts.values())  # Calculate the total number of shots\n",
    "Pa0 = {}\n",
    "\n",
    "# Calculate the probability for each outcome\n",
    "for outcome, count in counts.items():\n",
    "    probability = count / total_shots\n",
    "    Pa0[outcome] = probability\n",
    "Pa0"
   ]
  },
  {
   "cell_type": "code",
   "execution_count": 51,
   "id": "aba03564-8ea7-4baa-af14-0b984ff45763",
   "metadata": {
    "tags": []
   },
   "outputs": [
    {
     "data": {
      "image/png": "[encoded data removed]",
      "text/plain": [
       "<Figure size 536.926x284.278 with 1 Axes>"
      ]
     },
     "execution_count": 51,
     "metadata": {},
     "output_type": "execute_result"
    }
   ],
   "source": [
    "## To calculate P(b/0) we measure Bob's qubit on Z+X/sqrt(2) basis\n",
    "q = QuantumRegister(2, name=\"x\")\n",
    "\n",
    "# Allocating 2 bits\n",
    "c = ClassicalRegister(1, name=\"y\")\n",
    "\n",
    "# We build a quantum circuit with both registers.\n",
    "# By default, everything is initialized to 0 and to |0>\n",
    "qc = QuantumCircuit(q,c)\n",
    "qc.append(bell_circuit,[q[0], q[1]])\n",
    "\n",
    "qc.append(U0,[q[1]])\n",
    "# Mesure of all of register q, storing results in c.\n",
    "# This is still part of the circuit\n",
    "qc.measure(1, 0)\n",
    "qc.draw()"
   ]
  },
  {
   "cell_type": "code",
   "execution_count": 52,
   "id": "0150df6a-23a2-4b15-b79a-ee4e6c662646",
   "metadata": {
    "tags": []
   },
   "outputs": [
    {
     "data": {
      "text/plain": [
       "{'1': 0.49025, '0': 0.50975}"
      ]
     },
     "execution_count": 52,
     "metadata": {},
     "output_type": "execute_result"
    }
   ],
   "source": [
    "from qiskit import QuantumCircuit, transpile\n",
    "from qiskit_aer import AerSimulator\n",
    "from qiskit.visualization import plot_histogram\n",
    "from qiskit_aer.noise import NoiseModel\n",
    "from qiskit.providers.fake_provider import FakeVigo\n",
    "\n",
    "# Build noise model from backend properties\n",
    "backend = FakeVigo()\n",
    "noise_model = NoiseModel.from_backend(backend)\n",
    "\n",
    "# Get coupling map from backend\n",
    "coupling_map = backend.configuration().coupling_map\n",
    "\n",
    "# Get basis gates from noise model\n",
    "basis_gates = noise_model.basis_gates\n",
    "\n",
    "# Perform a noise simulation\n",
    "backend = AerSimulator(noise_model=noise_model,\n",
    "                       coupling_map=coupling_map,\n",
    "                       basis_gates=basis_gates)\n",
    "transpiled_circuit = transpile(qc, backend)\n",
    "# Specify the number of shots for each run of the circuit\n",
    "num_shots =  N  # You can change this number based on your needs\n",
    "\n",
    "# Perform multiple runs of the transpiled circuit with noise\n",
    "simulator = AerSimulator(noise_model=noise_model, coupling_map=coupling_map, basis_gates=basis_gates)\n",
    "job = execute(transpiled_circuit, simulator, shots=num_shots)\n",
    "\n",
    "# Retrieve the results\n",
    "result = job.result()\n",
    "counts = result.get_counts(transpiled_circuit)\n",
    "\n",
    "total_shots = sum(counts.values())  # Calculate the total number of shots\n",
    "\n",
    "# Initialize a dictionary to store the probabilities\n",
    "Pb0 = {}\n",
    "\n",
    "# Calculate the probability for each outcome\n",
    "for outcome, count in counts.items():\n",
    "    probability = count / total_shots\n",
    "    Pb0[outcome] = probability\n",
    "Pb0"
   ]
  },
  {
   "cell_type": "code",
   "execution_count": 53,
   "id": "ccfc69b5-3f34-4a74-b301-abb323647110",
   "metadata": {
    "tags": []
   },
   "outputs": [
    {
     "data": {
      "image/png": "[encoded data removed]",
      "text/plain": [
       "<Figure size 620.537x284.278 with 1 Axes>"
      ]
     },
     "execution_count": 53,
     "metadata": {},
     "output_type": "execute_result"
    }
   ],
   "source": [
    "## To calculate P(ab/xy=10) we measure Alice's qubit on X basis and Bob's qubit on (X+Z)/sqrt(2) basis\n",
    "q = QuantumRegister(2, name=\"x\")\n",
    "\n",
    "# Allocating 2 bits\n",
    "c = ClassicalRegister(2, name=\"y\")\n",
    "\n",
    "# We build a quantum circuit with both registers.\n",
    "# By default, everything is initialized to 0 and to |0>\n",
    "qc = QuantumCircuit(q,c)\n",
    "qc.append(bell_circuit,[q[0], q[1]])\n",
    "qc.h(0)\n",
    "qc.append(U0,[q[1]])\n",
    "# Mesure of all of register q, storing results in c.\n",
    "# This is still part of the circuit\n",
    "qc.measure(q, c)\n",
    "qc.draw()"
   ]
  },
  {
   "cell_type": "code",
   "execution_count": 54,
   "id": "1a0eb5d4-4664-40d1-864f-66a360eef002",
   "metadata": {
    "tags": []
   },
   "outputs": [
    {
     "data": {
      "text/plain": [
       "{'01': 0.39125, '11': 0.106375, '00': 0.1205, '10': 0.381875}"
      ]
     },
     "execution_count": 54,
     "metadata": {},
     "output_type": "execute_result"
    }
   ],
   "source": [
    "from qiskit import QuantumCircuit, transpile\n",
    "from qiskit_aer import AerSimulator\n",
    "from qiskit.visualization import plot_histogram\n",
    "from qiskit_aer.noise import NoiseModel\n",
    "from qiskit.providers.fake_provider import FakeVigo\n",
    "\n",
    "# Build noise model from backend properties\n",
    "backend = FakeVigo()\n",
    "noise_model = NoiseModel.from_backend(backend)\n",
    "\n",
    "# Get coupling map from backend\n",
    "coupling_map = backend.configuration().coupling_map\n",
    "\n",
    "# Get basis gates from noise model\n",
    "basis_gates = noise_model.basis_gates\n",
    "\n",
    "# Perform a noise simulation\n",
    "backend = AerSimulator(noise_model=noise_model,\n",
    "                       coupling_map=coupling_map,\n",
    "                       basis_gates=basis_gates)\n",
    "transpiled_circuit = transpile(qc, backend)\n",
    "# Specify the number of shots for each run of the circuit\n",
    "num_shots =  N  # You can change this number based on your needs\n",
    "\n",
    "# Perform multiple runs of the transpiled circuit with noise\n",
    "simulator = AerSimulator(noise_model=noise_model, coupling_map=coupling_map, basis_gates=basis_gates)\n",
    "job = execute(transpiled_circuit, simulator, shots=num_shots)\n",
    "\n",
    "# Retrieve the results\n",
    "result = job.result()\n",
    "counts = result.get_counts(transpiled_circuit)\n",
    "\n",
    "total_shots = sum(counts.values())  # Calculate the total number of shots\n",
    "# Initialize a dictionary to store the probabilities\n",
    "P10 = {}\n",
    "\n",
    "# Calculate the probability for each outcome\n",
    "for outcome, count in counts.items():\n",
    "    probability = count / total_shots\n",
    "    P10[outcome] = probability\n",
    "P10\n",
    "\n"
   ]
  },
  {
   "cell_type": "code",
   "execution_count": 55,
   "id": "ff6e62d2-459b-49fe-b6fa-525e4895b963",
   "metadata": {
    "tags": []
   },
   "outputs": [
    {
     "data": {
      "image/png": "[encoded data removed]",
      "text/plain": [
       "<Figure size 620.537x284.278 with 1 Axes>"
      ]
     },
     "execution_count": 55,
     "metadata": {},
     "output_type": "execute_result"
    }
   ],
   "source": [
    "## To calculate P(ab/xy=01) we measure Alice's qubit on Z basis and Bob's qubit on (X-Z)/sqrt(2) basis\n",
    "q = QuantumRegister(2, name=\"x\")\n",
    "\n",
    "# Allocating 2 bits\n",
    "c = ClassicalRegister(2, name=\"y\")\n",
    "\n",
    "# We build a quantum circuit with both registers.\n",
    "# By default, everything is initialized to 0 and to |0>\n",
    "qc = QuantumCircuit(q,c)\n",
    "qc.append(bell_circuit,[q[0], q[1]])\n",
    "\n",
    "qc.append(U1,[q[1]])\n",
    "# Mesure of all of register q, storing results in c.\n",
    "# This is still part of the circuit\n",
    "qc.measure(q, c)\n",
    "qc.draw()"
   ]
  },
  {
   "cell_type": "code",
   "execution_count": 56,
   "id": "78b14a67-4034-446b-aa78-05de2bfea873",
   "metadata": {
    "tags": []
   },
   "outputs": [
    {
     "data": {
      "text/plain": [
       "{'01': 0.113875, '10': 0.100625, '00': 0.405375, '11': 0.380125}"
      ]
     },
     "execution_count": 56,
     "metadata": {},
     "output_type": "execute_result"
    }
   ],
   "source": [
    "from qiskit import QuantumCircuit, transpile\n",
    "from qiskit_aer import AerSimulator\n",
    "from qiskit.visualization import plot_histogram\n",
    "from qiskit_aer.noise import NoiseModel\n",
    "from qiskit.providers.fake_provider import FakeVigo\n",
    "\n",
    "# Build noise model from backend properties\n",
    "backend = FakeVigo()\n",
    "noise_model = NoiseModel.from_backend(backend)\n",
    "\n",
    "# Get coupling map from backend\n",
    "coupling_map = backend.configuration().coupling_map\n",
    "\n",
    "# Get basis gates from noise model\n",
    "basis_gates = noise_model.basis_gates\n",
    "\n",
    "# Perform a noise simulation\n",
    "backend = AerSimulator(noise_model=noise_model,\n",
    "                       coupling_map=coupling_map,\n",
    "                       basis_gates=basis_gates)\n",
    "transpiled_circuit = transpile(qc, backend)\n",
    "# Specify the number of shots for each run of the circuit\n",
    "num_shots =  N  # You can change this number based on your needs\n",
    "\n",
    "# Perform multiple runs of the transpiled circuit with noise\n",
    "simulator = AerSimulator(noise_model=noise_model, coupling_map=coupling_map, basis_gates=basis_gates)\n",
    "job = execute(transpiled_circuit, simulator, shots=num_shots)\n",
    "\n",
    "# Retrieve the results\n",
    "result = job.result()\n",
    "counts = result.get_counts(transpiled_circuit)\n",
    "\n",
    "total_shots = sum(counts.values())  # Calculate the total number of shots\n",
    "# Initialize a dictionary to store the probabilities\n",
    "P01 = {}\n",
    "\n",
    "# Calculate the probability for each outcome\n",
    "for outcome, count in counts.items():\n",
    "    probability = count / total_shots\n",
    "    P01[outcome] = probability\n",
    "P01\n",
    "\n"
   ]
  },
  {
   "cell_type": "code",
   "execution_count": 57,
   "id": "72193e6f-b851-4307-97b7-dded5b721ddc",
   "metadata": {
    "tags": []
   },
   "outputs": [
    {
     "data": {
      "image/png": "[encoded data removed]",
      "text/plain": [
       "<Figure size 620.537x284.278 with 1 Axes>"
      ]
     },
     "execution_count": 57,
     "metadata": {},
     "output_type": "execute_result"
    }
   ],
   "source": [
    "## To calculate P(ab/xy=11) we measure Alice's qubit on X basis and Bob's qubit on (X-Z)/sqrt(2) basis\n",
    "q = QuantumRegister(2, name=\"x\")\n",
    "\n",
    "# Allocating 2 bits\n",
    "c = ClassicalRegister(2, name=\"y\")\n",
    "\n",
    "# We build a quantum circuit with both registers.\n",
    "# By default, everything is initialized to 0 and to |0>\n",
    "qc = QuantumCircuit(q,c)\n",
    "qc.append(bell_circuit,[q[0], q[1]])\n",
    "qc.h(0)\n",
    "qc.append(U1,[q[1]])\n",
    "# Mesure of all of register q, storing results in c.\n",
    "# This is still part of the circuit\n",
    "qc.measure(q, c)\n",
    "qc.draw()"
   ]
  },
  {
   "cell_type": "code",
   "execution_count": 58,
   "id": "dcf7570c-8718-40e4-b1b5-0bd629c6f41b",
   "metadata": {
    "tags": []
   },
   "outputs": [
    {
     "data": {
      "text/plain": [
       "{'11': 0.1025, '00': 0.11475, '10': 0.385625, '01': 0.397125}"
      ]
     },
     "execution_count": 58,
     "metadata": {},
     "output_type": "execute_result"
    }
   ],
   "source": [
    "from qiskit import QuantumCircuit, transpile\n",
    "from qiskit_aer import AerSimulator\n",
    "from qiskit.visualization import plot_histogram\n",
    "from qiskit_aer.noise import NoiseModel\n",
    "from qiskit.providers.fake_provider import FakeVigo\n",
    "\n",
    "# Build noise model from backend properties\n",
    "backend = FakeVigo()\n",
    "noise_model = NoiseModel.from_backend(backend)\n",
    "\n",
    "# Get coupling map from backend\n",
    "coupling_map = backend.configuration().coupling_map\n",
    "\n",
    "# Get basis gates from noise model\n",
    "basis_gates = noise_model.basis_gates\n",
    "\n",
    "# Perform a noise simulation\n",
    "backend = AerSimulator(noise_model=noise_model,\n",
    "                       coupling_map=coupling_map,\n",
    "                       basis_gates=basis_gates)\n",
    "transpiled_circuit = transpile(qc, backend)\n",
    "# Specify the number of shots for each run of the circuit\n",
    "num_shots =  N  # You can change this number based on your needs\n",
    "\n",
    "# Perform multiple runs of the transpiled circuit with noise\n",
    "simulator = AerSimulator(noise_model=noise_model, coupling_map=coupling_map, basis_gates=basis_gates)\n",
    "job = execute(transpiled_circuit, simulator, shots=num_shots)\n",
    "\n",
    "# Retrieve the results\n",
    "result = job.result()\n",
    "counts = result.get_counts(transpiled_circuit)\n",
    "\n",
    "total_shots = sum(counts.values())  # Calculate the total number of shots\n",
    "\n",
    "# Initialize a dictionary to store the probabilities\n",
    "P11 = {}\n",
    "\n",
    "# Calculate the probability for each outcome\n",
    "for outcome, count in counts.items():\n",
    "    probability = count / total_shots\n",
    "    P11[outcome] = probability\n",
    "P11\n",
    "\n"
   ]
  },
  {
   "cell_type": "code",
   "execution_count": 59,
   "id": "c41782f2-5276-4232-8266-0785aff5a2fc",
   "metadata": {
    "tags": []
   },
   "outputs": [
    {
     "data": {
      "image/png": "[encoded data removed]",
      "text/plain": [
       "<Figure size 536.926x284.278 with 1 Axes>"
      ]
     },
     "execution_count": 59,
     "metadata": {},
     "output_type": "execute_result"
    }
   ],
   "source": [
    "## ## To calculate P(a/1) we measure Alice's qubit on X basis\n",
    "q = QuantumRegister(2, name=\"x\")\n",
    "\n",
    "# Allocating 2 bits\n",
    "c = ClassicalRegister(1, name=\"y\")\n",
    "\n",
    "# We build a quantum circuit with both registers.\n",
    "# By default, everything is initialized to 0 and to |0>\n",
    "qc = QuantumCircuit(q,c)\n",
    "qc.append(bell_circuit,[q[0], q[1]])\n",
    "qc.h(0)\n",
    "#qc.append(U1,[q[1]])\n",
    "# Mesure of all of register q, storing results in c.\n",
    "# This is still part of the circuit\n",
    "qc.measure(q[0], c)\n",
    "qc.draw()"
   ]
  },
  {
   "cell_type": "code",
   "execution_count": 60,
   "id": "18d3bdad-246e-40ac-be34-87ab2c9c7296",
   "metadata": {
    "tags": []
   },
   "outputs": [
    {
     "data": {
      "text/plain": [
       "{'0': 0.507, '1': 0.493}"
      ]
     },
     "execution_count": 60,
     "metadata": {},
     "output_type": "execute_result"
    }
   ],
   "source": [
    "from qiskit import QuantumCircuit, transpile\n",
    "from qiskit_aer import AerSimulator\n",
    "from qiskit.visualization import plot_histogram\n",
    "from qiskit_aer.noise import NoiseModel\n",
    "from qiskit.providers.fake_provider import FakeVigo\n",
    "\n",
    "# Build noise model from backend properties\n",
    "backend = FakeVigo()\n",
    "noise_model = NoiseModel.from_backend(backend)\n",
    "\n",
    "# Get coupling map from backend\n",
    "coupling_map = backend.configuration().coupling_map\n",
    "\n",
    "# Get basis gates from noise model\n",
    "basis_gates = noise_model.basis_gates\n",
    "\n",
    "# Perform a noise simulation\n",
    "backend = AerSimulator(noise_model=noise_model,\n",
    "                       coupling_map=coupling_map,\n",
    "                       basis_gates=basis_gates)\n",
    "transpiled_circuit = transpile(qc, backend)\n",
    "# Specify the number of shots for each run of the circuit\n",
    "num_shots =  N  # You can change this number based on your needs\n",
    "\n",
    "# Perform multiple runs of the transpiled circuit with noise\n",
    "simulator = AerSimulator(noise_model=noise_model, coupling_map=coupling_map, basis_gates=basis_gates)\n",
    "job = execute(transpiled_circuit, simulator, shots=num_shots)\n",
    "\n",
    "# Retrieve the results\n",
    "result = job.result()\n",
    "counts = result.get_counts(transpiled_circuit)\n",
    "\n",
    "total_shots = sum(counts.values())  # Calculate the total number of shots\n",
    "\n",
    "# Initialize a dictionary to store the probabilities\n",
    "Pa1 = {}\n",
    "\n",
    "# Calculate the probability for each outcome\n",
    "for outcome, count in counts.items():\n",
    "    probability = count / total_shots\n",
    "    Pa1[outcome] = probability\n",
    "Pa1"
   ]
  },
  {
   "cell_type": "code",
   "execution_count": 61,
   "id": "8b58104e-0716-4127-98ec-4724bf121168",
   "metadata": {
    "tags": []
   },
   "outputs": [
    {
     "data": {
      "image/png": "[encoded data removed]",
      "text/plain": [
       "<Figure size 536.926x284.278 with 1 Axes>"
      ]
     },
     "execution_count": 61,
     "metadata": {},
     "output_type": "execute_result"
    }
   ],
   "source": [
    "## ## To calculate P(b/1) we measure Bob's qubit on X-Z/sqrt(2) basis\n",
    "q = QuantumRegister(2, name=\"x\")\n",
    "\n",
    "# Allocating 2 bits\n",
    "c = ClassicalRegister(1, name=\"y\")\n",
    "\n",
    "# We build a quantum circuit with both registers.\n",
    "# By default, everything is initialized to 0 and to |0>\n",
    "qc = QuantumCircuit(q,c)\n",
    "qc.append(bell_circuit,[q[0], q[1]])\n",
    "\n",
    "qc.append(U1,[q[1]])\n",
    "# Mesure of all of register q, storing results in c.\n",
    "# This is still part of the circuit\n",
    "qc.measure(q[1], c)\n",
    "qc.draw()"
   ]
  },
  {
   "cell_type": "code",
   "execution_count": 62,
   "id": "9828ee33-06d8-4414-b112-fde1557d0112",
   "metadata": {},
   "outputs": [
    {
     "data": {
      "text/plain": [
       "{'1': 0.48425, '0': 0.51575}"
      ]
     },
     "execution_count": 62,
     "metadata": {},
     "output_type": "execute_result"
    }
   ],
   "source": [
    "from qiskit import QuantumCircuit, transpile\n",
    "from qiskit_aer import AerSimulator\n",
    "from qiskit.visualization import plot_histogram\n",
    "from qiskit_aer.noise import NoiseModel\n",
    "from qiskit.providers.fake_provider import FakeVigo\n",
    "\n",
    "# Build noise model from backend properties\n",
    "backend = FakeVigo()\n",
    "noise_model = NoiseModel.from_backend(backend)\n",
    "\n",
    "# Get coupling map from backend\n",
    "coupling_map = backend.configuration().coupling_map\n",
    "\n",
    "# Get basis gates from noise model\n",
    "basis_gates = noise_model.basis_gates\n",
    "\n",
    "# Perform a noise simulation\n",
    "backend = AerSimulator(noise_model=noise_model,\n",
    "                       coupling_map=coupling_map,\n",
    "                       basis_gates=basis_gates)\n",
    "transpiled_circuit = transpile(qc, backend)\n",
    "# Specify the number of shots for each run of the circuit\n",
    "num_shots =  N  # You can change this number based on your needs\n",
    "\n",
    "# Perform multiple runs of the transpiled circuit with noise\n",
    "simulator = AerSimulator(noise_model=noise_model, coupling_map=coupling_map, basis_gates=basis_gates)\n",
    "job = execute(transpiled_circuit, simulator, shots=num_shots)\n",
    "\n",
    "# Retrieve the results\n",
    "result = job.result()\n",
    "counts = result.get_counts(transpiled_circuit)\n",
    "\n",
    "total_shots = sum(counts.values())  # Calculate the total number of shots\n",
    "# Initialize a dictionary to store the probabilities\n",
    "Pb1 = {}\n",
    "\n",
    "# Calculate the probability for each outcome\n",
    "for outcome, count in counts.items():\n",
    "    probability = count / total_shots\n",
    "    Pb1[outcome] = probability\n",
    "Pb1"
   ]
  },
  {
   "cell_type": "code",
   "execution_count": 63,
   "id": "e887953e-c258-400c-80c1-b66f6cb59f1b",
   "metadata": {
    "tags": []
   },
   "outputs": [
    {
     "name": "stdout",
     "output_type": "stream",
     "text": [
      "ep_a0 = |P(a=1/00) - P(a=1/01)|: [0.01112499999999994, 0.0031249999999999334, 0.004249999999999976]\n",
      "ep_a1 = |P(a=1/10) - P(a=1/11)|: [0.002874999999999961, 0.0022499999999999742, 0.0020000000000000018]\n",
      "ep_b0 = |P(b=1/00) - P(b=1/10)|: [0.00862500000000005, 0.019124999999999948, 0.002375000000000016]\n",
      "ep_b1 = |P(b=1/01) - P(b=1/11)|: [0.005249999999999977, 0.0011249999999999871, 0.007374999999999965]\n"
     ]
    }
   ],
   "source": [
    "##ep_ax = |P(a=1/xy)-P(a=1/xy')|\n",
    "#ep_a0=[]\n",
    "ep_a0.append(abs(P00['01']+P00['11'] - (P01['01']+P01['11']))) # |P(a=1/00) - P(a=1/01)|\n",
    "#ep_a1=[]\n",
    "ep_a1.append(abs(P10['01']+P10['11'] - (P11['01']+P11['11']))) # |P(a=1/10) - P(a=1/11)|\n",
    "\n",
    "##ep_by = P(b=1/xy)-P(b=1/x'y)\n",
    "#ep_b0=[]\n",
    "ep_b0.append(abs(P00['10']+P00['11'] - (P10['10']+P10['11']))) # |P(b=1/00) - P(b=1/10)|\n",
    "#ep_b1=[]\n",
    "ep_b1.append(abs(P01['10']+P01['11'] - (P11['10']+P11['11']))) # |P(b=1/01) - P(b=1/11)|\n",
    "\n",
    "print(\"ep_a0 = |P(a=1/00) - P(a=1/01)|:\", ep_a0)\n",
    "print(\"ep_a1 = |P(a=1/10) - P(a=1/11)|:\", ep_a1)\n",
    "print(\"ep_b0 = |P(b=1/00) - P(b=1/10)|:\", ep_b0)\n",
    "print(\"ep_b1 = |P(b=1/01) - P(b=1/11)|:\", ep_b1)"
   ]
  },
  {
   "cell_type": "code",
   "execution_count": 64,
   "id": "b3387da2-b0f6-4f0b-968b-f5dcf85cafb2",
   "metadata": {},
   "outputs": [
    {
     "name": "stdout",
     "output_type": "stream",
     "text": [
      "ep_a0_snoise = |P(a=0/0) - 1/2|: [0.014124999999999999, 0.00824999999999998, 0.0030000000000000027]\n",
      "ep_a1_snoise = |P(a=0/1) - 1/2|: [0.0006249999999999867, 0.009375000000000022, 0.007000000000000006]\n",
      "ep_b0_snoise = |P(b=0/0) - 1/2|: [0.01737500000000003, 0.010499999999999954, 0.009750000000000036]\n",
      "ep_b1_snoise = |P(b=0/1) - 1/2|: [0.017625000000000002, 0.015125000000000055, 0.015750000000000042]\n"
     ]
    }
   ],
   "source": [
    "##ep_noise statistical noise\n",
    "#ep_a0_snoise=[]\n",
    "#ep_a1_snoise=[]\n",
    "#ep_b0_snoise=[]\n",
    "#ep_b1_snoise=[]\n",
    "\n",
    "ep_a0_snoise.append(abs(0.5 - Pa0['0']))\n",
    "ep_a1_snoise.append(abs(0.5 - Pa1['0']))\n",
    "ep_b0_snoise.append(abs(0.5 - Pb0['0'])) \n",
    "ep_b1_snoise.append(abs(0.5 - Pb1['0'])) \n",
    "\n",
    "print(\"ep_a0_snoise = |P(a=0/0) - 1/2|:\", ep_a0_snoise)\n",
    "print(\"ep_a1_snoise = |P(a=0/1) - 1/2|:\", ep_a1_snoise)\n",
    "print(\"ep_b0_snoise = |P(b=0/0) - 1/2|:\", ep_b0_snoise)\n",
    "print(\"ep_b1_snoise = |P(b=0/1) - 1/2|:\", ep_b1_snoise)"
   ]
  },
  {
   "cell_type": "code",
   "execution_count": null,
   "id": "0cd21cb5-524d-4840-895c-a77bc2e02bf6",
   "metadata": {},
   "outputs": [],
   "source": []
  },
  {
   "cell_type": "code",
   "execution_count": null,
   "id": "41d357e4-62bd-4a2d-83ab-8372f576607a",
   "metadata": {},
   "outputs": [],
   "source": []
  },
  {
   "cell_type": "code",
   "execution_count": null,
   "id": "92c2d5e5-185c-4866-8e2e-1be71b5c0258",
   "metadata": {},
   "outputs": [],
   "source": []
  }
 ],
 "metadata": {
  "kernelspec": {
   "display_name": "Python 3 (ipykernel)",
   "language": "python",
   "name": "python3"
  },
  "language_info": {
   "codemirror_mode": {
    "name": "ipython",
    "version": 3
   },
   "file_extension": ".py",
   "mimetype": "text/x-python",
   "name": "python",
   "nbconvert_exporter": "python",
   "pygments_lexer": "ipython3",
   "version": "3.10.8"
  },
  "widgets": {
   "application/vnd.jupyter.widget-state+json": {
    "state": {
     "0dda6b6107ba4459a0b45b734678da35": {
      "model_module": "@jupyter-widgets/controls",
      "model_module_version": "2.0.0",
      "model_name": "HTMLStyleModel",
      "state": {
       "description_width": "",
       "font_size": null,
       "text_color": null
      }
     },
     "1926cc2b2a3a4a4a8f630d8c35c9c908": {
      "model_module": "@jupyter-widgets/base",
      "model_module_version": "2.0.0",
      "model_name": "LayoutModel",
      "state": {}
     },
     "1e5d2679a709463f8fbdcd3ac02fb7cd": {
      "model_module": "@jupyter-widgets/controls",
      "model_module_version": "2.0.0",
      "model_name": "ButtonModel",
      "state": {
       "button_style": "primary",
       "description": "Clear",
       "layout": "IPY_MODEL_d549c347dbaf4816b7dc8f4c7266baa3",
       "style": "IPY_MODEL_e00bae7c5cbe4cee8bb558b93821dc41",
       "tooltip": null
      }
     },
     "1eecd4ddae9441fb81eb59e988c14d7f": {
      "model_module": "@jupyter-widgets/controls",
      "model_module_version": "2.0.0",
      "model_name": "HTMLStyleModel",
      "state": {
       "description_width": "",
       "font_size": null,
       "text_color": null
      }
     },
     "2abdca0ac0ed42108ee0411d925b63dd": {
      "model_module": "@jupyter-widgets/base",
      "model_module_version": "2.0.0",
      "model_name": "LayoutModel",
      "state": {
       "width": "95px"
      }
     },
     "35e4c45fc9f742fa9a77207f629f5055": {
      "model_module": "@jupyter-widgets/controls",
      "model_module_version": "2.0.0",
      "model_name": "HTMLStyleModel",
      "state": {
       "description_width": "",
       "font_size": null,
       "text_color": null
      }
     },
     "397d607df4204ba486b2c7bc16527d7e": {
      "model_module": "@jupyter-widgets/base",
      "model_module_version": "2.0.0",
      "model_name": "LayoutModel",
      "state": {
       "width": "190px"
      }
     },
     "4bb129850dc3429087ffe4a7ad406d91": {
      "model_module": "@jupyter-widgets/base",
      "model_module_version": "2.0.0",
      "model_name": "LayoutModel",
      "state": {
       "margin": "0px 0px 0px 37px",
       "width": "600px"
      }
     },
     "4c9b2c0fb0cb4dca92d21f162a98a3bd": {
      "model_module": "@jupyter-widgets/controls",
      "model_module_version": "2.0.0",
      "model_name": "HTMLModel",
      "state": {
       "layout": "IPY_MODEL_96a7e35c4db84c4f8e32aa940dd85194",
       "style": "IPY_MODEL_1eecd4ddae9441fb81eb59e988c14d7f",
       "value": "<p style='font-family: IBM Plex Sans, Arial, Helvetica, sans-serif; font-size: 20px; font-weight: medium;'>Circuit Properties</p>"
      }
     },
     "5023362e62404cf8971533e3fa48c500": {
      "model_module": "@jupyter-widgets/controls",
      "model_module_version": "2.0.0",
      "model_name": "HTMLModel",
      "state": {
       "layout": "IPY_MODEL_1926cc2b2a3a4a4a8f630d8c35c9c908",
       "style": "IPY_MODEL_6e2ca944b20744ca8151e15a2ee10de7",
       "value": "<h5>Message</h5>"
      }
     },
     "5bcec961f90a47c3ad9a8fc5abea474c": {
      "model_module": "@jupyter-widgets/controls",
      "model_module_version": "2.0.0",
      "model_name": "HTMLStyleModel",
      "state": {
       "description_width": "",
       "font_size": null,
       "text_color": null
      }
     },
     "5c0b812db01644f2be18e1839ac9c515": {
      "model_module": "@jupyter-widgets/controls",
      "model_module_version": "2.0.0",
      "model_name": "HTMLModel",
      "state": {
       "layout": "IPY_MODEL_5e48c8253e30480894790974f6e2e98c",
       "style": "IPY_MODEL_8467505b9f06401e94068b45be69438e",
       "value": "<h5>Backend</h5>"
      }
     },
     "5e48c8253e30480894790974f6e2e98c": {
      "model_module": "@jupyter-widgets/base",
      "model_module_version": "2.0.0",
      "model_name": "LayoutModel",
      "state": {
       "width": "145px"
      }
     },
     "6e2ca944b20744ca8151e15a2ee10de7": {
      "model_module": "@jupyter-widgets/controls",
      "model_module_version": "2.0.0",
      "model_name": "HTMLStyleModel",
      "state": {
       "description_width": "",
       "font_size": null,
       "text_color": null
      }
     },
     "7141d7dce4fb4e0ea66650f7d9f34524": {
      "model_module": "@jupyter-widgets/base",
      "model_module_version": "2.0.0",
      "model_name": "LayoutModel",
      "state": {
       "width": "70px"
      }
     },
     "74939e67d21445079e63699c4e914cab": {
      "model_module": "@jupyter-widgets/controls",
      "model_module_version": "2.0.0",
      "model_name": "HTMLModel",
      "state": {
       "layout": "IPY_MODEL_2abdca0ac0ed42108ee0411d925b63dd",
       "style": "IPY_MODEL_5bcec961f90a47c3ad9a8fc5abea474c",
       "value": "<h5>Status</h5>"
      }
     },
     "74a4d6c31a4f4cf183d49824855b63f0": {
      "model_module": "@jupyter-widgets/controls",
      "model_module_version": "2.0.0",
      "model_name": "HTMLModel",
      "state": {
       "layout": "IPY_MODEL_7141d7dce4fb4e0ea66650f7d9f34524",
       "style": "IPY_MODEL_35e4c45fc9f742fa9a77207f629f5055",
       "value": "<h5>Queue</h5>"
      }
     },
     "8467505b9f06401e94068b45be69438e": {
      "model_module": "@jupyter-widgets/controls",
      "model_module_version": "2.0.0",
      "model_name": "HTMLStyleModel",
      "state": {
       "description_width": "",
       "font_size": null,
       "text_color": null
      }
     },
     "96a7e35c4db84c4f8e32aa940dd85194": {
      "model_module": "@jupyter-widgets/base",
      "model_module_version": "2.0.0",
      "model_name": "LayoutModel",
      "state": {
       "margin": "0px 0px 10px 0px"
      }
     },
     "b31cc736a78042a08cd52066a7796b4a": {
      "model_module": "@jupyter-widgets/controls",
      "model_module_version": "2.0.0",
      "model_name": "HTMLModel",
      "state": {
       "layout": "IPY_MODEL_397d607df4204ba486b2c7bc16527d7e",
       "style": "IPY_MODEL_0dda6b6107ba4459a0b45b734678da35",
       "value": "<h5>Job ID</h5>"
      }
     },
     "d549c347dbaf4816b7dc8f4c7266baa3": {
      "model_module": "@jupyter-widgets/base",
      "model_module_version": "2.0.0",
      "model_name": "LayoutModel",
      "state": {
       "grid_area": "right",
       "padding": "0px 0px 0px 0px",
       "width": "70px"
      }
     },
     "e00bae7c5cbe4cee8bb558b93821dc41": {
      "model_module": "@jupyter-widgets/controls",
      "model_module_version": "2.0.0",
      "model_name": "ButtonStyleModel",
      "state": {
       "font_family": null,
       "font_size": null,
       "font_style": null,
       "font_variant": null,
       "font_weight": null,
       "text_color": null,
       "text_decoration": null
      }
     },
     "e4291d9d191745918543cfacb8e7f811": {
      "model_module": "@jupyter-widgets/controls",
      "model_module_version": "2.0.0",
      "model_name": "HBoxModel",
      "state": {
       "children": [
        "IPY_MODEL_b31cc736a78042a08cd52066a7796b4a",
        "IPY_MODEL_5c0b812db01644f2be18e1839ac9c515",
        "IPY_MODEL_74939e67d21445079e63699c4e914cab",
        "IPY_MODEL_74a4d6c31a4f4cf183d49824855b63f0",
        "IPY_MODEL_5023362e62404cf8971533e3fa48c500"
       ],
       "layout": "IPY_MODEL_4bb129850dc3429087ffe4a7ad406d91"
      }
     },
     "fa76bf03a5124a8494679f90ec808da1": {
      "model_module": "@jupyter-widgets/controls",
      "model_module_version": "2.0.0",
      "model_name": "GridBoxModel",
      "state": {
       "children": [
        "IPY_MODEL_1e5d2679a709463f8fbdcd3ac02fb7cd"
       ],
       "layout": "IPY_MODEL_fb1589774d194a56bc763ece666715d5"
      }
     },
     "fb1589774d194a56bc763ece666715d5": {
      "model_module": "@jupyter-widgets/base",
      "model_module_version": "2.0.0",
      "model_name": "LayoutModel",
      "state": {
       "grid_template_areas": "\n                                       \". . . . right \"\n                                        ",
       "grid_template_columns": "20% 20% 20% 20% 20%",
       "width": "100%"
      }
     }
    },
    "version_major": 2,
    "version_minor": 0
   }
  }
 },
 "nbformat": 4,
 "nbformat_minor": 5
}
